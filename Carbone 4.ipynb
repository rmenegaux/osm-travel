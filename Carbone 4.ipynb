{
 "cells": [
  {
   "cell_type": "code",
   "execution_count": 1,
   "metadata": {},
   "outputs": [],
   "source": [
    "import urllib.request\n",
    "import json\n",
    "import datetime"
   ]
  },
  {
   "cell_type": "markdown",
   "metadata": {},
   "source": [
    "OpenStreetMaps API\n",
    "---\n",
    "----\n",
    "\n",
    "#### 1) Coordinates from address with nominatim\n",
    "\n",
    "https://nominatim.org/release-docs/develop/api/Overview/\n"
   ]
  },
  {
   "cell_type": "code",
   "execution_count": 2,
   "metadata": {},
   "outputs": [
    {
     "name": "stdout",
     "output_type": "stream",
     "text": [
      "Start:\n",
      "Bamako, Koulikoro, Mali\n",
      "(-7.984739136241295, 12.61326555)\n",
      "---\n",
      "Destination:\n",
      "Tombouctou, Cercle de Tombouctou, Tombouctou, Mali\n",
      "(-3.0087272, 16.7719091)\n"
     ]
    }
   ],
   "source": [
    "def get_coordinates_from_address(address):\n",
    "    '''\n",
    "    Returns latitude and longitude from a query, using the nominatim tool\n",
    "    '''\n",
    "    formatted_address = address.replace(' ', '+')\n",
    "    url_request = 'http://nominatim.openstreetmap.org/search?q={}&format=json&polygon=1&addressdetails=1'.format(formatted_address)\n",
    "    with urllib.request.urlopen(url_request) as response:\n",
    "        html = response.read()\n",
    "    location_info = json.loads(html)[0]\n",
    "    print(location_info['display_name'])\n",
    "    return float(location_info['lon']), float(location_info['lat'])\n",
    "\n",
    "start_address = 'Bamako'\n",
    "dest_address = 'Timbuktu'\n",
    "\n",
    "print('Start:')\n",
    "print(get_coordinates_from_address(start_address))\n",
    "print('---')\n",
    "print('Destination:')\n",
    "print(get_coordinates_from_address(dest_address))"
   ]
  },
  {
   "cell_type": "markdown",
   "metadata": {},
   "source": [
    "----\n",
    "#### 2) Fastest Route with OSRM\n",
    "\n",
    "https://github.com/Project-OSRM/osrm-backend/blob/master/docs/http.md"
   ]
  },
  {
   "cell_type": "code",
   "execution_count": 3,
   "metadata": {},
   "outputs": [
    {
     "data": {
      "text/plain": [
       "{'distance': 3795.1, 'duration': 384.4}"
      ]
     },
     "execution_count": 3,
     "metadata": {},
     "output_type": "execute_result"
    }
   ],
   "source": [
    "start_coordinates = 13.388860, 52.517037\n",
    "end_coordinates = 13.428555, 52.523219\n",
    "\n",
    "def get_fastest_route_coords(start_coordinates, dest_coordinates, travel_type='driving'):\n",
    "    '''\n",
    "    Finds the fastest route between coordinates in the supplied order.\n",
    "    \n",
    "    url structure:\n",
    "    GET /route/v1/{profile}/{coordinates}?alternatives={true|false|number}&steps={true|false}&geometries={polyline|polyline6|geojson}&overview={full|simplified|false}&annotations={true|false}\n",
    "    '''\n",
    "    url_request = 'http://router.project-osrm.org/route/v1/{}/{:.6f},{:.6f};{:.6f},{:.6f}?overview=false'.format(\n",
    "        travel_type, *start_coordinates, *dest_coordinates\n",
    "    )\n",
    "    with urllib.request.urlopen(url_request) as response:\n",
    "        html = response.read()\n",
    "    routes = json.loads(html)['routes'][0]\n",
    "    # print(json.loads(html))\n",
    "    return {'distance': routes['distance'], 'duration': routes['duration']}\n",
    "\n",
    "get_fastest_route_coords(start_coordinates, end_coordinates)"
   ]
  },
  {
   "cell_type": "markdown",
   "metadata": {},
   "source": [
    "---\n",
    "#### All together"
   ]
  },
  {
   "cell_type": "code",
   "execution_count": 4,
   "metadata": {},
   "outputs": [
    {
     "name": "stdout",
     "output_type": "stream",
     "text": [
      "Москва, Центральный федеральный округ, Россия\n",
      "Санкт-Петербург, Северо-Западный федеральный округ, 190000, Россия\n",
      "\n",
      "          Distance: 705.1km\n",
      "          Time    : 7:37:36.300000\n",
      "          \n"
     ]
    },
    {
     "data": {
      "text/plain": [
       "{'distance': 705.0849000000001,\n",
       " 'duration': datetime.timedelta(seconds=27456, microseconds=300000)}"
      ]
     },
     "execution_count": 4,
     "metadata": {},
     "output_type": "execute_result"
    }
   ],
   "source": [
    "def get_fastest_route(start_address, dest_address):\n",
    "    '''\n",
    "    Returns the driving duration and distance between two addresses\n",
    "    '''\n",
    "    start_coords = get_coordinates_from_address(start_address)\n",
    "    dest_coords = get_coordinates_from_address(dest_address)\n",
    "    \n",
    "    route = get_fastest_route_coords(start_coords, dest_coords)\n",
    "    distance = route['distance']/1000\n",
    "    duration = datetime.timedelta(seconds=route['duration'])\n",
    "    print('''\n",
    "          Distance: {:.1f}km\n",
    "          Time    : {}\n",
    "          '''.format(distance, duration)\n",
    "         )\n",
    "    return {'distance': distance, 'duration': duration}\n",
    "\n",
    "get_fastest_route('moscou', 'saint-petersbourg')"
   ]
  },
  {
   "cell_type": "markdown",
   "metadata": {},
   "source": [
    "Application to csv file\n",
    "---\n",
    "----"
   ]
  },
  {
   "cell_type": "code",
   "execution_count": 5,
   "metadata": {},
   "outputs": [],
   "source": [
    "# Load csv file with start and destination cities\n",
    "import pandas as pd\n",
    "\n",
    "itineraries_file_name = 'destinations.csv'\n",
    "itineraries = pd.read_csv(itineraries_file_name, sep=';')\n",
    "itineraries = itineraries.loc[:, itineraries.columns[:2]]"
   ]
  },
  {
   "cell_type": "code",
   "execution_count": 6,
   "metadata": {},
   "outputs": [],
   "source": [
    "def compute_routes_csv(\n",
    "    itineraries_file_name,\n",
    "    distance_col='distance (km)',\n",
    "    duration_col='duration',\n",
    "    save_inplace=True,\n",
    "    sep=','):\n",
    "    '''\n",
    "    Given a csv file with two columns of start and destination adresses,\n",
    "    adds columns with the travel time and distance by car.\n",
    "    \n",
    "    If `save_inplace` is True (default), modifies the csv inplace, otherwise \n",
    "    creates a new csv file.\n",
    "    '''\n",
    "    itineraries = pd.read_csv(itineraries_file_name, sep=sep)\n",
    "    print(itineraries.head())\n",
    "    # itineraries = itineraries.loc[:, itineraries.columns[:2]]\n",
    "    distances_durations = [\n",
    "        get_fastest_route(start, dest) for start, dest in zip(\n",
    "            itineraries.iloc[:, 0], itineraries.iloc[:, 1])\n",
    "    ]\n",
    "    itineraries['duration'] = [d['duration'] for d in distances_durations]\n",
    "    itineraries['distance (km)'] = [d['distance'] for d in distances_durations]\n",
    "    \n",
    "    # Save the results as a csv\n",
    "    results_file_name = itineraries_file_name if save_inplace else itineraries_file_name + '_travel'\n",
    "    itineraries.to_csv(itineraries_file_name, index=False)\n",
    "    print('Saved results to {}'.format(itineraries_file_name))\n",
    "    \n",
    "    return itineraries"
   ]
  },
  {
   "cell_type": "code",
   "execution_count": 7,
   "metadata": {},
   "outputs": [
    {
     "name": "stdout",
     "output_type": "stream",
     "text": [
      "            Départ            Arrivée                   duration   distance  \\\n",
      "0    Saint GAudens   Clermont-Ferrand  0 days 05:06:17.400000000   465.2093   \n",
      "1  Rio de Janeiro            Brasilia  1 days 12:52:11.200000000  2471.1578   \n",
      "2           Boston      San Francisco  2 days 07:01:24.600000000  4999.6387   \n",
      "3           Moscou  Saint Petersbourg  0 days 07:37:36.300000000   705.0849   \n",
      "4          Beijing           Shanghai  0 days 13:41:54.200000000  1205.8645   \n",
      "\n",
      "   distance (km)  \n",
      "0       465.2093  \n",
      "1      2471.1578  \n",
      "2      4999.6387  \n",
      "3       705.0849  \n",
      "4      1205.8645  \n",
      "Saint-Gaudens, Haute-Garonne, Occitanie, France métropolitaine, 31800, France\n",
      "Clermont-Ferrand, Puy-de-Dôme, Auvergne-Rhône-Alpes, France métropolitaine, France\n",
      "\n",
      "          Distance: 465.2km\n",
      "          Time    : 5:06:17.400000\n",
      "          \n",
      "Rio de Janeiro, Região Geográfica Imediata do Rio de Janeiro, Região Metropolitana do Rio de Janeiro, Região Geográfica Intermediária do Rio de Janeiro, Rio de Janeiro, Região Sudeste, Brasil\n",
      "Brasil\n",
      "\n",
      "          Distance: 2471.2km\n",
      "          Time    : 1 day, 12:52:11.200000\n",
      "          \n",
      "Boston, Suffolk County, Massachusetts, United States\n",
      "San Francisco, San Francisco City and County, San Francisco, California, United States\n",
      "\n",
      "          Distance: 4999.6km\n",
      "          Time    : 2 days, 7:01:24.600000\n",
      "          \n",
      "Москва, Центральный федеральный округ, Россия\n",
      "Санкт-Петербург, Северо-Западный федеральный округ, 190000, Россия\n",
      "\n",
      "          Distance: 705.1km\n",
      "          Time    : 7:37:36.300000\n",
      "          \n",
      "北京市, 东城区, 北京市, 100010, 中国\n",
      "上海市, 黄浦区, 上海市, 200001, 中国\n",
      "\n",
      "          Distance: 1205.9km\n",
      "          Time    : 13:41:54.200000\n",
      "          \n",
      "Saved results to destinations.csv\n"
     ]
    },
    {
     "data": {
      "text/html": [
       "<div>\n",
       "<style scoped>\n",
       "    .dataframe tbody tr th:only-of-type {\n",
       "        vertical-align: middle;\n",
       "    }\n",
       "\n",
       "    .dataframe tbody tr th {\n",
       "        vertical-align: top;\n",
       "    }\n",
       "\n",
       "    .dataframe thead th {\n",
       "        text-align: right;\n",
       "    }\n",
       "</style>\n",
       "<table border=\"1\" class=\"dataframe\">\n",
       "  <thead>\n",
       "    <tr style=\"text-align: right;\">\n",
       "      <th></th>\n",
       "      <th>Départ</th>\n",
       "      <th>Arrivée</th>\n",
       "      <th>duration</th>\n",
       "      <th>distance</th>\n",
       "      <th>distance (km)</th>\n",
       "    </tr>\n",
       "  </thead>\n",
       "  <tbody>\n",
       "    <tr>\n",
       "      <th>0</th>\n",
       "      <td>Saint GAudens</td>\n",
       "      <td>Clermont-Ferrand</td>\n",
       "      <td>0 days 05:06:17.400000</td>\n",
       "      <td>465.2093</td>\n",
       "      <td>465.2093</td>\n",
       "    </tr>\n",
       "    <tr>\n",
       "      <th>1</th>\n",
       "      <td>Rio de Janeiro</td>\n",
       "      <td>Brasilia</td>\n",
       "      <td>1 days 12:52:11.200000</td>\n",
       "      <td>2471.1578</td>\n",
       "      <td>2471.1578</td>\n",
       "    </tr>\n",
       "    <tr>\n",
       "      <th>2</th>\n",
       "      <td>Boston</td>\n",
       "      <td>San Francisco</td>\n",
       "      <td>2 days 07:01:24.600000</td>\n",
       "      <td>4999.6387</td>\n",
       "      <td>4999.6387</td>\n",
       "    </tr>\n",
       "    <tr>\n",
       "      <th>3</th>\n",
       "      <td>Moscou</td>\n",
       "      <td>Saint Petersbourg</td>\n",
       "      <td>0 days 07:37:36.300000</td>\n",
       "      <td>705.0849</td>\n",
       "      <td>705.0849</td>\n",
       "    </tr>\n",
       "    <tr>\n",
       "      <th>4</th>\n",
       "      <td>Beijing</td>\n",
       "      <td>Shanghai</td>\n",
       "      <td>0 days 13:41:54.200000</td>\n",
       "      <td>1205.8645</td>\n",
       "      <td>1205.8645</td>\n",
       "    </tr>\n",
       "  </tbody>\n",
       "</table>\n",
       "</div>"
      ],
      "text/plain": [
       "            Départ            Arrivée               duration   distance  \\\n",
       "0    Saint GAudens   Clermont-Ferrand 0 days 05:06:17.400000   465.2093   \n",
       "1  Rio de Janeiro            Brasilia 1 days 12:52:11.200000  2471.1578   \n",
       "2           Boston      San Francisco 2 days 07:01:24.600000  4999.6387   \n",
       "3           Moscou  Saint Petersbourg 0 days 07:37:36.300000   705.0849   \n",
       "4          Beijing           Shanghai 0 days 13:41:54.200000  1205.8645   \n",
       "\n",
       "   distance (km)  \n",
       "0       465.2093  \n",
       "1      2471.1578  \n",
       "2      4999.6387  \n",
       "3       705.0849  \n",
       "4      1205.8645  "
      ]
     },
     "execution_count": 7,
     "metadata": {},
     "output_type": "execute_result"
    }
   ],
   "source": [
    "compute_routes_csv('destinations.csv')"
   ]
  },
  {
   "cell_type": "markdown",
   "metadata": {},
   "source": [
    "Searates API\n",
    "---"
   ]
  },
  {
   "cell_type": "code",
   "execution_count": null,
   "metadata": {},
   "outputs": [],
   "source": [
    "url_request = 'https://tracking.searates.com'\n",
    "url_request += 'reference?type=BL&number=SII166268&sealine=maeu'\n",
    "url_request += '&api_key=_your_api_key_'\n",
    "url_request = 'http://router.project-osrm.org/route/v1/driving/13.388860,52.517037;13.397634,52.529407;13.428555,52.523219?overview=false'\n",
    "with urllib.request.urlopen(url_request) as response:\n",
    "    html = response.read()"
   ]
  }
 ],
 "metadata": {
  "kernelspec": {
   "display_name": "Python 3",
   "language": "python",
   "name": "python3"
  },
  "language_info": {
   "codemirror_mode": {
    "name": "ipython",
    "version": 3
   },
   "file_extension": ".py",
   "mimetype": "text/x-python",
   "name": "python",
   "nbconvert_exporter": "python",
   "pygments_lexer": "ipython3",
   "version": "3.7.6"
  }
 },
 "nbformat": 4,
 "nbformat_minor": 4
}
